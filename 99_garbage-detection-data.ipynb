{
 "cells": [
  {
   "cell_type": "markdown",
   "id": "9d6de9c6-8ecd-429c-95cd-c8d65a441ffc",
   "metadata": {},
   "source": [
    "# Подготовка датасета"
   ]
  },
  {
   "cell_type": "markdown",
   "id": "a4ed4810-1680-44ce-8359-ee4ccae51c9d",
   "metadata": {},
   "source": [
    "## Импорт необходимых библиотек"
   ]
  },
  {
   "cell_type": "markdown",
   "id": "5c50b645",
   "metadata": {
    "papermill": {
     "duration": 0.003553,
     "end_time": "2024-11-27T15:29:34.566230",
     "exception": false,
     "start_time": "2024-11-27T15:29:34.562677",
     "status": "completed"
    },
    "tags": []
   },
   "source": [
    "Загрузим необходимые для работы библиотеки."
   ]
  },
  {
   "cell_type": "code",
   "execution_count": 2,
   "id": "f57e4405",
   "metadata": {
    "execution": {
     "iopub.execute_input": "2024-11-27T15:29:34.575233Z",
     "iopub.status.busy": "2024-11-27T15:29:34.574522Z",
     "iopub.status.idle": "2024-11-27T15:29:36.940186Z",
     "shell.execute_reply": "2024-11-27T15:29:36.939301Z"
    },
    "papermill": {
     "duration": 2.373094,
     "end_time": "2024-11-27T15:29:36.942987",
     "exception": false,
     "start_time": "2024-11-27T15:29:34.569893",
     "status": "completed"
    },
    "tags": []
   },
   "outputs": [],
   "source": [
    "import pandas as pd\n",
    "import os\n",
    "import shutil\n",
    "from PIL import Image\n",
    "from tqdm import tqdm\n",
    "from sklearn.model_selection import train_test_split\n",
    "import yaml"
   ]
  },
  {
   "cell_type": "markdown",
   "id": "cff97b8e-4a1f-4fb3-82c6-6bcb9517a351",
   "metadata": {},
   "source": [
    "## Первичный анализ данных"
   ]
  },
  {
   "cell_type": "code",
   "execution_count": 3,
   "id": "4b5b8f6c",
   "metadata": {
    "execution": {
     "iopub.execute_input": "2024-11-27T15:29:36.953399Z",
     "iopub.status.busy": "2024-11-27T15:29:36.952465Z",
     "iopub.status.idle": "2024-11-27T15:29:37.059235Z",
     "shell.execute_reply": "2024-11-27T15:29:37.058034Z"
    },
    "papermill": {
     "duration": 0.114009,
     "end_time": "2024-11-27T15:29:37.061216",
     "exception": false,
     "start_time": "2024-11-27T15:29:36.947207",
     "status": "completed"
    },
    "tags": []
   },
   "outputs": [
    {
     "data": {
      "text/html": [
       "<div>\n",
       "<style scoped>\n",
       "    .dataframe tbody tr th:only-of-type {\n",
       "        vertical-align: middle;\n",
       "    }\n",
       "\n",
       "    .dataframe tbody tr th {\n",
       "        vertical-align: top;\n",
       "    }\n",
       "\n",
       "    .dataframe thead th {\n",
       "        text-align: right;\n",
       "    }\n",
       "</style>\n",
       "<table border=\"1\" class=\"dataframe\">\n",
       "  <thead>\n",
       "    <tr style=\"text-align: right;\">\n",
       "      <th></th>\n",
       "      <th>file_name</th>\n",
       "      <th>bbox</th>\n",
       "      <th>category_id</th>\n",
       "    </tr>\n",
       "  </thead>\n",
       "  <tbody>\n",
       "    <tr>\n",
       "      <th>0</th>\n",
       "      <td>000001.jpg</td>\n",
       "      <td>[840.0, 0.0, 176.0, 124.0]</td>\n",
       "      <td>4.0</td>\n",
       "    </tr>\n",
       "    <tr>\n",
       "      <th>1</th>\n",
       "      <td>000001.jpg</td>\n",
       "      <td>[612.0, 306.0, 383.0, 397.0]</td>\n",
       "      <td>2.0</td>\n",
       "    </tr>\n",
       "    <tr>\n",
       "      <th>2</th>\n",
       "      <td>000001.jpg</td>\n",
       "      <td>[990.92, 551.0, 105.00000000000011, 186.0]</td>\n",
       "      <td>4.0</td>\n",
       "    </tr>\n",
       "    <tr>\n",
       "      <th>3</th>\n",
       "      <td>000002.jpg</td>\n",
       "      <td>[1000.0, 614.0, 98.0, 178.0]</td>\n",
       "      <td>4.0</td>\n",
       "    </tr>\n",
       "    <tr>\n",
       "      <th>4</th>\n",
       "      <td>000002.jpg</td>\n",
       "      <td>[605.0, 358.0, 402.0, 409.0]</td>\n",
       "      <td>2.0</td>\n",
       "    </tr>\n",
       "  </tbody>\n",
       "</table>\n",
       "</div>"
      ],
      "text/plain": [
       "    file_name                                        bbox  category_id\n",
       "0  000001.jpg                  [840.0, 0.0, 176.0, 124.0]          4.0\n",
       "1  000001.jpg                [612.0, 306.0, 383.0, 397.0]          2.0\n",
       "2  000001.jpg  [990.92, 551.0, 105.00000000000011, 186.0]          4.0\n",
       "3  000002.jpg                [1000.0, 614.0, 98.0, 178.0]          4.0\n",
       "4  000002.jpg                [605.0, 358.0, 402.0, 409.0]          2.0"
      ]
     },
     "metadata": {},
     "output_type": "display_data"
    },
    {
     "data": {
      "text/html": [
       "<div>\n",
       "<style scoped>\n",
       "    .dataframe tbody tr th:only-of-type {\n",
       "        vertical-align: middle;\n",
       "    }\n",
       "\n",
       "    .dataframe tbody tr th {\n",
       "        vertical-align: top;\n",
       "    }\n",
       "\n",
       "    .dataframe thead th {\n",
       "        text-align: right;\n",
       "    }\n",
       "</style>\n",
       "<table border=\"1\" class=\"dataframe\">\n",
       "  <thead>\n",
       "    <tr style=\"text-align: right;\">\n",
       "      <th></th>\n",
       "      <th>file_name</th>\n",
       "    </tr>\n",
       "  </thead>\n",
       "  <tbody>\n",
       "    <tr>\n",
       "      <th>0</th>\n",
       "      <td>000003.jpg</td>\n",
       "    </tr>\n",
       "    <tr>\n",
       "      <th>1</th>\n",
       "      <td>000006.jpg</td>\n",
       "    </tr>\n",
       "    <tr>\n",
       "      <th>2</th>\n",
       "      <td>000013.jpg</td>\n",
       "    </tr>\n",
       "    <tr>\n",
       "      <th>3</th>\n",
       "      <td>000016.jpg</td>\n",
       "    </tr>\n",
       "    <tr>\n",
       "      <th>4</th>\n",
       "      <td>000019.jpg</td>\n",
       "    </tr>\n",
       "  </tbody>\n",
       "</table>\n",
       "</div>"
      ],
      "text/plain": [
       "    file_name\n",
       "0  000003.jpg\n",
       "1  000006.jpg\n",
       "2  000013.jpg\n",
       "3  000016.jpg\n",
       "4  000019.jpg"
      ]
     },
     "metadata": {},
     "output_type": "display_data"
    }
   ],
   "source": [
    "# Зададим переменные с названиями изображений,входящих в train и test\n",
    "train_imgs = pd.read_csv('/kaggle/input/waste-detection/train.csv')\n",
    "test_imgs = pd.read_csv('/kaggle/input/waste-detection/test.csv')\n",
    "\n",
    "# Проверим первые 5 строк\n",
    "display(train_imgs.head())\n",
    "display(test_imgs.head())"
   ]
  },
  {
   "cell_type": "markdown",
   "id": "cdf4e6eb",
   "metadata": {
    "papermill": {
     "duration": 0.00384,
     "end_time": "2024-11-27T15:29:37.069196",
     "exception": false,
     "start_time": "2024-11-27T15:29:37.065356",
     "status": "completed"
    },
    "tags": []
   },
   "source": [
    "Посмотрим основную информацию по датафреймам, которые содержались в csv файлах."
   ]
  },
  {
   "cell_type": "code",
   "execution_count": 4,
   "id": "f40681ce",
   "metadata": {
    "execution": {
     "iopub.execute_input": "2024-11-27T15:29:37.079346Z",
     "iopub.status.busy": "2024-11-27T15:29:37.078590Z",
     "iopub.status.idle": "2024-11-27T15:29:37.189356Z",
     "shell.execute_reply": "2024-11-27T15:29:37.188211Z"
    },
    "papermill": {
     "duration": 0.118278,
     "end_time": "2024-11-27T15:29:37.191383",
     "exception": false,
     "start_time": "2024-11-27T15:29:37.073105",
     "status": "completed"
    },
    "tags": []
   },
   "outputs": [
    {
     "name": "stdout",
     "output_type": "stream",
     "text": [
      "<class 'pandas.core.frame.DataFrame'>\n",
      "RangeIndex: 32265 entries, 0 to 32264\n",
      "Data columns (total 3 columns):\n",
      " #   Column       Non-Null Count  Dtype  \n",
      "---  ------       --------------  -----  \n",
      " 0   file_name    32265 non-null  object \n",
      " 1   bbox         32148 non-null  object \n",
      " 2   category_id  32148 non-null  float64\n",
      "dtypes: float64(1), object(2)\n",
      "memory usage: 756.3+ KB\n",
      "<class 'pandas.core.frame.DataFrame'>\n",
      "RangeIndex: 2999 entries, 0 to 2998\n",
      "Data columns (total 1 columns):\n",
      " #   Column     Non-Null Count  Dtype \n",
      "---  ------     --------------  ----- \n",
      " 0   file_name  2999 non-null   object\n",
      "dtypes: object(1)\n",
      "memory usage: 23.6+ KB\n"
     ]
    }
   ],
   "source": [
    "train_imgs.info()\n",
    "test_imgs.info()"
   ]
  },
  {
   "cell_type": "markdown",
   "id": "b8b54cea",
   "metadata": {
    "papermill": {
     "duration": 0.003925,
     "end_time": "2024-11-27T15:29:37.199565",
     "exception": false,
     "start_time": "2024-11-27T15:29:37.195640",
     "status": "completed"
    },
    "tags": []
   },
   "source": [
    "Мы можем видеть, что и в файле с изображениями для обучающей выборки, и в файле с изображениями для тестовой выборки имена файла имеют формат строки, что ожидаемо.  Наиболее странный формат у столбца `bbox`: он имеет формат строки. Превращение строки в список напишем внутри функции преобразования датасета в формат yolo.\n",
    "\n",
    "Посмотрим, какие уникальные значения классов встречаются в тренировочных данных."
   ]
  },
  {
   "cell_type": "code",
   "execution_count": 5,
   "id": "40974daa",
   "metadata": {
    "execution": {
     "iopub.execute_input": "2024-11-27T15:29:37.210301Z",
     "iopub.status.busy": "2024-11-27T15:29:37.209899Z",
     "iopub.status.idle": "2024-11-27T15:29:37.223134Z",
     "shell.execute_reply": "2024-11-27T15:29:37.222134Z"
    },
    "papermill": {
     "duration": 0.02166,
     "end_time": "2024-11-27T15:29:37.225273",
     "exception": false,
     "start_time": "2024-11-27T15:29:37.203613",
     "status": "completed"
    },
    "tags": []
   },
   "outputs": [
    {
     "data": {
      "text/plain": [
       "array([ 1.,  2.,  3.,  4.,  5.,  6.,  7.,  8.,  9., 10., 11., 12., 13.,\n",
       "       14., 15., nan])"
      ]
     },
     "execution_count": 5,
     "metadata": {},
     "output_type": "execute_result"
    }
   ],
   "source": [
    "train_imgs['category_id'].sort_values().unique()"
   ]
  },
  {
   "cell_type": "markdown",
   "id": "ea275a64",
   "metadata": {
    "papermill": {
     "duration": 0.00414,
     "end_time": "2024-11-27T15:29:37.233953",
     "exception": false,
     "start_time": "2024-11-27T15:29:37.229813",
     "status": "completed"
    },
    "tags": []
   },
   "source": [
    "Мы видим, что классы начинаются с 1. Формат датасета для Yolo предусматривает классы, начинающиеся с 0. Поправим это ниже."
   ]
  },
  {
   "cell_type": "code",
   "execution_count": 6,
   "id": "33217818",
   "metadata": {
    "execution": {
     "iopub.execute_input": "2024-11-27T15:29:37.244181Z",
     "iopub.status.busy": "2024-11-27T15:29:37.243784Z",
     "iopub.status.idle": "2024-11-27T15:29:37.254535Z",
     "shell.execute_reply": "2024-11-27T15:29:37.253592Z"
    },
    "papermill": {
     "duration": 0.018322,
     "end_time": "2024-11-27T15:29:37.256542",
     "exception": false,
     "start_time": "2024-11-27T15:29:37.238220",
     "status": "completed"
    },
    "tags": []
   },
   "outputs": [
    {
     "data": {
      "text/plain": [
       "array([ 0.,  1.,  2.,  3.,  4.,  5.,  6.,  7.,  8.,  9., 10., 11., 12.,\n",
       "       13., 14., nan])"
      ]
     },
     "execution_count": 6,
     "metadata": {},
     "output_type": "execute_result"
    }
   ],
   "source": [
    "train_imgs['category_id'] = train_imgs['category_id']-1\n",
    "train_imgs['category_id'].sort_values().unique()"
   ]
  },
  {
   "cell_type": "markdown",
   "id": "fe2c0cfd-67ce-4cec-a6ae-996abac1b8bf",
   "metadata": {},
   "source": [
    "Для дальнейшей обработки значений ограничивающих рамок bbox удалим из строк, в которых они записаны квадратные скобки."
   ]
  },
  {
   "cell_type": "code",
   "execution_count": 7,
   "id": "07e4e7da",
   "metadata": {
    "execution": {
     "iopub.execute_input": "2024-11-27T15:29:37.267098Z",
     "iopub.status.busy": "2024-11-27T15:29:37.266731Z",
     "iopub.status.idle": "2024-11-27T15:29:37.288041Z",
     "shell.execute_reply": "2024-11-27T15:29:37.287049Z"
    },
    "papermill": {
     "duration": 0.02906,
     "end_time": "2024-11-27T15:29:37.290170",
     "exception": false,
     "start_time": "2024-11-27T15:29:37.261110",
     "status": "completed"
    },
    "tags": []
   },
   "outputs": [
    {
     "data": {
      "text/html": [
       "<div>\n",
       "<style scoped>\n",
       "    .dataframe tbody tr th:only-of-type {\n",
       "        vertical-align: middle;\n",
       "    }\n",
       "\n",
       "    .dataframe tbody tr th {\n",
       "        vertical-align: top;\n",
       "    }\n",
       "\n",
       "    .dataframe thead th {\n",
       "        text-align: right;\n",
       "    }\n",
       "</style>\n",
       "<table border=\"1\" class=\"dataframe\">\n",
       "  <thead>\n",
       "    <tr style=\"text-align: right;\">\n",
       "      <th></th>\n",
       "      <th>file_name</th>\n",
       "      <th>bbox</th>\n",
       "      <th>category_id</th>\n",
       "    </tr>\n",
       "  </thead>\n",
       "  <tbody>\n",
       "    <tr>\n",
       "      <th>0</th>\n",
       "      <td>000001.jpg</td>\n",
       "      <td>840.0, 0.0, 176.0, 124.0</td>\n",
       "      <td>3.0</td>\n",
       "    </tr>\n",
       "    <tr>\n",
       "      <th>1</th>\n",
       "      <td>000001.jpg</td>\n",
       "      <td>612.0, 306.0, 383.0, 397.0</td>\n",
       "      <td>1.0</td>\n",
       "    </tr>\n",
       "    <tr>\n",
       "      <th>2</th>\n",
       "      <td>000001.jpg</td>\n",
       "      <td>990.92, 551.0, 105.00000000000011, 186.0</td>\n",
       "      <td>3.0</td>\n",
       "    </tr>\n",
       "    <tr>\n",
       "      <th>3</th>\n",
       "      <td>000002.jpg</td>\n",
       "      <td>1000.0, 614.0, 98.0, 178.0</td>\n",
       "      <td>3.0</td>\n",
       "    </tr>\n",
       "    <tr>\n",
       "      <th>4</th>\n",
       "      <td>000002.jpg</td>\n",
       "      <td>605.0, 358.0, 402.0, 409.0</td>\n",
       "      <td>1.0</td>\n",
       "    </tr>\n",
       "  </tbody>\n",
       "</table>\n",
       "</div>"
      ],
      "text/plain": [
       "    file_name                                      bbox  category_id\n",
       "0  000001.jpg                  840.0, 0.0, 176.0, 124.0          3.0\n",
       "1  000001.jpg                612.0, 306.0, 383.0, 397.0          1.0\n",
       "2  000001.jpg  990.92, 551.0, 105.00000000000011, 186.0          3.0\n",
       "3  000002.jpg                1000.0, 614.0, 98.0, 178.0          3.0\n",
       "4  000002.jpg                605.0, 358.0, 402.0, 409.0          1.0"
      ]
     },
     "metadata": {},
     "output_type": "display_data"
    }
   ],
   "source": [
    "train_imgs['bbox'] = train_imgs['bbox'].str.strip('[]')\n",
    "display(train_imgs.head())"
   ]
  },
  {
   "cell_type": "code",
   "execution_count": 8,
   "id": "d813d7b8",
   "metadata": {
    "execution": {
     "iopub.execute_input": "2024-11-27T15:29:37.302224Z",
     "iopub.status.busy": "2024-11-27T15:29:37.301868Z",
     "iopub.status.idle": "2024-11-27T15:29:37.315140Z",
     "shell.execute_reply": "2024-11-27T15:29:37.313800Z"
    },
    "papermill": {
     "duration": 0.021462,
     "end_time": "2024-11-27T15:29:37.317048",
     "exception": false,
     "start_time": "2024-11-27T15:29:37.295586",
     "status": "completed"
    },
    "tags": []
   },
   "outputs": [
    {
     "name": "stdout",
     "output_type": "stream",
     "text": [
      "<class 'pandas.core.frame.DataFrame'>\n",
      "RangeIndex: 32265 entries, 0 to 32264\n",
      "Data columns (total 3 columns):\n",
      " #   Column       Non-Null Count  Dtype  \n",
      "---  ------       --------------  -----  \n",
      " 0   file_name    32265 non-null  object \n",
      " 1   bbox         32148 non-null  object \n",
      " 2   category_id  32148 non-null  float64\n",
      "dtypes: float64(1), object(2)\n",
      "memory usage: 756.3+ KB\n"
     ]
    }
   ],
   "source": [
    "train_imgs.info()"
   ]
  },
  {
   "cell_type": "markdown",
   "id": "b268e554-f22a-4531-86b3-dfe662ed804a",
   "metadata": {},
   "source": [
    "## Преобразование датасета в формат для модели YOLO"
   ]
  },
  {
   "cell_type": "markdown",
   "id": "515bf365",
   "metadata": {
    "papermill": {
     "duration": 0.004491,
     "end_time": "2024-11-27T15:29:37.326583",
     "exception": false,
     "start_time": "2024-11-27T15:29:37.322092",
     "status": "completed"
    },
    "tags": []
   },
   "source": [
    "Зададим функцию для разделения датасета на тренировочную, валидационную и тестовую выборки для модели Yolo."
   ]
  },
  {
   "cell_type": "code",
   "execution_count": 9,
   "id": "3d570ff4",
   "metadata": {
    "execution": {
     "iopub.execute_input": "2024-11-27T15:29:37.337458Z",
     "iopub.status.busy": "2024-11-27T15:29:37.337057Z",
     "iopub.status.idle": "2024-11-27T15:29:37.342528Z",
     "shell.execute_reply": "2024-11-27T15:29:37.341430Z"
    },
    "papermill": {
     "duration": 0.01312,
     "end_time": "2024-11-27T15:29:37.344394",
     "exception": false,
     "start_time": "2024-11-27T15:29:37.331274",
     "status": "completed"
    },
    "tags": []
   },
   "outputs": [],
   "source": [
    "# Настройки\n",
    "images_dir = '/kaggle/input/waste-detection/images'\n",
    "output_dir = os.path.join('/kaggle/working/',\"yolo_dataset\")\n",
    "os.makedirs(output_dir, exist_ok=True)\n",
    "\n",
    "TRAIN_RATIO = 0.75\n",
    "RANDOM_STATE = 42"
   ]
  },
  {
   "cell_type": "code",
   "execution_count": 10,
   "id": "a2368a38",
   "metadata": {
    "execution": {
     "iopub.execute_input": "2024-11-27T15:29:37.356791Z",
     "iopub.status.busy": "2024-11-27T15:29:37.356044Z",
     "iopub.status.idle": "2024-11-27T15:29:37.363410Z",
     "shell.execute_reply": "2024-11-27T15:29:37.362379Z"
    },
    "papermill": {
     "duration": 0.015658,
     "end_time": "2024-11-27T15:29:37.365562",
     "exception": false,
     "start_time": "2024-11-27T15:29:37.349904",
     "status": "completed"
    },
    "tags": []
   },
   "outputs": [],
   "source": [
    "# Зададим структуру папок для датасета\n",
    "output_structure = {\n",
    "    \"train\": {\"images\": os.path.join(output_dir, \"images/train\"), \"labels\": os.path.join(output_dir, \"labels/train\")},\n",
    "    \"val\": {\"images\": os.path.join(output_dir, \"images/val\"), \"labels\": os.path.join(output_dir, \"labels/val\")},\n",
    "    \"test\": {\"images\": os.path.join(output_dir, \"images/test\")},\n",
    "}\n",
    "\n",
    "# Создание папок\n",
    "for split, paths in output_structure.items():\n",
    "    for path in paths.values():\n",
    "        os.makedirs(path, exist_ok=True)"
   ]
  },
  {
   "cell_type": "code",
   "execution_count": 11,
   "id": "ac76e46f",
   "metadata": {
    "execution": {
     "iopub.execute_input": "2024-11-27T15:29:37.377401Z",
     "iopub.status.busy": "2024-11-27T15:29:37.377038Z",
     "iopub.status.idle": "2024-11-27T15:29:37.382328Z",
     "shell.execute_reply": "2024-11-27T15:29:37.381290Z"
    },
    "papermill": {
     "duration": 0.013768,
     "end_time": "2024-11-27T15:29:37.384513",
     "exception": false,
     "start_time": "2024-11-27T15:29:37.370745",
     "status": "completed"
    },
    "tags": []
   },
   "outputs": [],
   "source": [
    "# Функция преобразования bbox из формата CSV в YOLO\n",
    "def convert_bbox_yolo(image_width, image_height, x_left, y_top, width, height):\n",
    "    x_center = (x_left + width / 2) / image_width\n",
    "    y_center = (y_top + height / 2) / image_height\n",
    "    norm_width = width / image_width\n",
    "    norm_height = height / image_height\n",
    "    return x_center, y_center, norm_width, norm_height"
   ]
  },
  {
   "cell_type": "code",
   "execution_count": 12,
   "id": "7dc73ca8",
   "metadata": {
    "execution": {
     "iopub.execute_input": "2024-11-27T15:29:37.396908Z",
     "iopub.status.busy": "2024-11-27T15:29:37.396103Z",
     "iopub.status.idle": "2024-11-27T15:29:37.405491Z",
     "shell.execute_reply": "2024-11-27T15:29:37.404457Z"
    },
    "papermill": {
     "duration": 0.01773,
     "end_time": "2024-11-27T15:29:37.407730",
     "exception": false,
     "start_time": "2024-11-27T15:29:37.390000",
     "status": "completed"
    },
    "tags": []
   },
   "outputs": [],
   "source": [
    "# Создадим список названий файлов для обучения\n",
    "train_files = train_imgs['file_name'].unique()\n",
    "# Разделим файлы для обучения на тренировочную и валидационную выборку\n",
    "train_files_train, train_files_val = train_test_split(train_files, train_size=TRAIN_RATIO, random_state=RANDOM_STATE)"
   ]
  },
  {
   "cell_type": "code",
   "execution_count": 13,
   "id": "5d052a48",
   "metadata": {
    "execution": {
     "iopub.execute_input": "2024-11-27T15:29:37.419275Z",
     "iopub.status.busy": "2024-11-27T15:29:37.418887Z",
     "iopub.status.idle": "2024-11-27T15:29:37.428478Z",
     "shell.execute_reply": "2024-11-27T15:29:37.427488Z"
    },
    "papermill": {
     "duration": 0.017762,
     "end_time": "2024-11-27T15:29:37.430553",
     "exception": false,
     "start_time": "2024-11-27T15:29:37.412791",
     "status": "completed"
    },
    "tags": []
   },
   "outputs": [],
   "source": [
    "# Функция для обработки данных\n",
    "def process_split(files, split):\n",
    "    for filename in tqdm(files, desc=f\"Processing {split}\"):\n",
    "        # Копирование изображения\n",
    "        src_image = os.path.join(images_dir, filename)\n",
    "        dst_image = os.path.join(output_structure[split][\"images\"], filename)\n",
    "        shutil.copy(src_image, dst_image)\n",
    "        \n",
    "        # Обработка аннотаций\n",
    "        annotations = train_imgs[train_imgs['file_name'] == filename]\n",
    "        if annotations.empty:\n",
    "            continue  # Пропуск, если нет объектов\n",
    "        \n",
    "        # Открытие изображения с использованием Pillow\n",
    "        with Image.open(src_image) as img:\n",
    "            image_width, image_height = img.size\n",
    "        \n",
    "        label_file = os.path.splitext(filename)[0] + \".txt\"\n",
    "        label_path = os.path.join(output_structure[split][\"labels\"], label_file)\n",
    "        with open(label_path, \"w\") as f:\n",
    "            for _, row in annotations.iterrows():\n",
    "                #bbox = row['bbox'].str.strip('[]') \n",
    "                #bbox = list(map(row['bbox'].split(',')))  # Преобразование bbox\n",
    "                if pd.isna(row[\"bbox\"]):\n",
    "                    continue\n",
    "                \n",
    "                if isinstance(row[\"bbox\"], str):  # Если bbox — строка\n",
    "                    bbox = list(map(float, row[\"bbox\"].split(\",\")))\n",
    "                elif isinstance(row[\"bbox\"], list):  # Если bbox уже список\n",
    "                    bbox = row[\"bbox\"]\n",
    "                else:\n",
    "                    raise ValueError(f\"Unexpected bbox format: {row['bbox']}\")\n",
    "                    \n",
    "                x_left, y_top, width, height = bbox\n",
    "                class_id = row['category_id']\n",
    "                x_center, y_center, norm_width, norm_height = convert_bbox_yolo(\n",
    "                    image_width, image_height, x_left, y_top, width, height\n",
    "                )\n",
    "                f.write(f\"{class_id} {x_center} {y_center} {norm_width} {norm_height}\\n\")"
   ]
  },
  {
   "cell_type": "code",
   "execution_count": 14,
   "id": "780a74c3",
   "metadata": {
    "execution": {
     "iopub.execute_input": "2024-11-27T15:29:37.442349Z",
     "iopub.status.busy": "2024-11-27T15:29:37.441982Z",
     "iopub.status.idle": "2024-11-27T15:32:25.500315Z",
     "shell.execute_reply": "2024-11-27T15:32:25.499292Z"
    },
    "papermill": {
     "duration": 168.068166,
     "end_time": "2024-11-27T15:32:25.503913",
     "exception": false,
     "start_time": "2024-11-27T15:29:37.435747",
     "status": "completed"
    },
    "tags": []
   },
   "outputs": [
    {
     "name": "stderr",
     "output_type": "stream",
     "text": [
      "Processing train: 100%|██████████| 4500/4500 [01:33<00:00, 48.17it/s]\n",
      "Processing val: 100%|██████████| 1501/1501 [00:30<00:00, 49.84it/s]\n",
      "Processing test: 100%|██████████| 2999/2999 [00:44<00:00, 67.39it/s]"
     ]
    },
    {
     "name": "stdout",
     "output_type": "stream",
     "text": [
      "Dataset preparation completed!\n"
     ]
    },
    {
     "name": "stderr",
     "output_type": "stream",
     "text": [
      "\n"
     ]
    }
   ],
   "source": [
    "# Обработка тренировочной и валидационной выборок\n",
    "process_split(train_files_train, \"train\")\n",
    "process_split(train_files_val, \"val\")\n",
    "\n",
    "# Обработка test.csv\n",
    "for filename in tqdm(test_imgs['file_name'], desc=\"Processing test\"):\n",
    "    src_image = os.path.join(images_dir, filename)\n",
    "    dst_image = os.path.join(output_structure[\"test\"][\"images\"], filename)\n",
    "    shutil.copy(src_image, dst_image)\n",
    "\n",
    "print(\"Dataset preparation completed!\")"
   ]
  },
  {
   "cell_type": "code",
   "execution_count": 15,
   "id": "1eaeb59f",
   "metadata": {
    "execution": {
     "iopub.execute_input": "2024-11-27T15:32:25.666515Z",
     "iopub.status.busy": "2024-11-27T15:32:25.665622Z",
     "iopub.status.idle": "2024-11-27T15:32:25.674521Z",
     "shell.execute_reply": "2024-11-27T15:32:25.673550Z"
    },
    "papermill": {
     "duration": 0.09257,
     "end_time": "2024-11-27T15:32:25.676776",
     "exception": false,
     "start_time": "2024-11-27T15:32:25.584206",
     "status": "completed"
    },
    "tags": []
   },
   "outputs": [],
   "source": [
    "# Создадим файл конфигурации для модели в формате yaml\n",
    "CLASSES = {\n",
    "    'PET (transparent) (green)': 0,\n",
    "    'PET (transparent) (brown)': 1,\n",
    "    'PET (transparent) (blue)': 2,\n",
    "    'PET (transparent)': 3,\n",
    "    'PET (transparent) (dark blue)': 4,\n",
    "    'PET (black)': 5,\n",
    "    'PET (white)': 6,\n",
    "    'PET (sticker)': 7,\n",
    "    'PET (flacon)': 8,\n",
    "    'PET (household chemicals)': 9,\n",
    "    'PND (household chemicals)': 10,\n",
    "    'PND packet': 11,\n",
    "    'Other plastic': 12,\n",
    "    'Other plastic (transparent)': 13,\n",
    "    'Not plastic':14\n",
    "}\n",
    "\n",
    "idx_to_class = dict(zip(CLASSES.values(), CLASSES.keys()))\n",
    "num_classes = 15\n",
    "\n",
    "data_yaml = {\n",
    "    'path': '/kaggle/input/garbage-detection-data/yolo_dataset/',\n",
    "    'train': 'images/train',\n",
    "    'val': 'images/val',\n",
    "    'test': 'images/test',\n",
    "    'nc': num_classes,\n",
    "    'names': idx_to_class\n",
    "}\n",
    "\n",
    "with open('data.yaml','w') as file:\n",
    "    yaml.dump(data_yaml, file)"
   ]
  }
 ],
 "metadata": {
  "kaggle": {
   "accelerator": "none",
   "dataSources": [
    {
     "databundleVersionId": 9967287,
     "sourceId": 86681,
     "sourceType": "competition"
    }
   ],
   "dockerImageVersionId": 30786,
   "isGpuEnabled": false,
   "isInternetEnabled": true,
   "language": "python",
   "sourceType": "notebook"
  },
  "kernelspec": {
   "display_name": "Python 3 (ipykernel)",
   "language": "python",
   "name": "python3"
  },
  "language_info": {
   "codemirror_mode": {
    "name": "ipython",
    "version": 3
   },
   "file_extension": ".py",
   "mimetype": "text/x-python",
   "name": "python",
   "nbconvert_exporter": "python",
   "pygments_lexer": "ipython3",
   "version": "3.9.5"
  },
  "papermill": {
   "default_parameters": {},
   "duration": 174.499925,
   "end_time": "2024-11-27T15:32:26.382148",
   "environment_variables": {},
   "exception": null,
   "input_path": "__notebook__.ipynb",
   "output_path": "__notebook__.ipynb",
   "parameters": {},
   "start_time": "2024-11-27T15:29:31.882223",
   "version": "2.6.0"
  }
 },
 "nbformat": 4,
 "nbformat_minor": 5
}
