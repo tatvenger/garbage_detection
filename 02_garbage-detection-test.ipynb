{
 "cells": [
  {
   "cell_type": "markdown",
   "id": "381c7647-80b4-4eba-aba8-2daba5b933ba",
   "metadata": {},
   "source": [
    "# Получение предсказаний детекции отходов"
   ]
  },
  {
   "cell_type": "markdown",
   "id": "5750b1da-a2b8-4971-83d5-89b14847691e",
   "metadata": {},
   "source": [
    "## Импорт необходимых библиотек"
   ]
  },
  {
   "cell_type": "code",
   "execution_count": 1,
   "id": "a7c66b64",
   "metadata": {
    "_cell_guid": "b1076dfc-b9ad-4769-8c92-a6c4dae69d19",
    "_uuid": "8f2839f25d086af736a60e9eeb907d3b93b6e0e5",
    "execution": {
     "iopub.execute_input": "2024-12-01T20:44:14.517762Z",
     "iopub.status.busy": "2024-12-01T20:44:14.517462Z",
     "iopub.status.idle": "2024-12-01T20:44:21.077121Z",
     "shell.execute_reply": "2024-12-01T20:44:21.076426Z"
    },
    "papermill": {
     "duration": 6.566261,
     "end_time": "2024-12-01T20:44:21.079305",
     "exception": false,
     "start_time": "2024-12-01T20:44:14.513044",
     "status": "completed"
    },
    "tags": []
   },
   "outputs": [],
   "source": [
    "import os\n",
    "\n",
    "from tqdm import tqdm\n",
    "\n",
    "import warnings\n",
    "warnings.filterwarnings(\"ignore\")\n",
    "\n",
    "import numpy as np\n",
    "import pandas as pd\n",
    "import matplotlib.pyplot as plt\n",
    "\n",
    "from PIL import Image\n",
    "import cv2\n",
    "\n",
    "import torch\n",
    "import torchvision\n",
    "from torchvision.utils import draw_bounding_boxes\n",
    "from torch.utils.data import Dataset, DataLoader\n",
    "from torchvision import transforms\n",
    "from torchvision.ops import box_convert"
   ]
  },
  {
   "cell_type": "code",
   "execution_count": 2,
   "id": "cfacd8e4",
   "metadata": {
    "execution": {
     "iopub.execute_input": "2024-12-01T20:44:21.085789Z",
     "iopub.status.busy": "2024-12-01T20:44:21.085427Z",
     "iopub.status.idle": "2024-12-01T20:44:32.320019Z",
     "shell.execute_reply": "2024-12-01T20:44:32.319355Z"
    },
    "papermill": {
     "duration": 11.239603,
     "end_time": "2024-12-01T20:44:32.321788",
     "exception": false,
     "start_time": "2024-12-01T20:44:21.082185",
     "status": "completed"
    },
    "tags": []
   },
   "outputs": [
    {
     "name": "stdout",
     "output_type": "stream",
     "text": [
      "Collecting ultralytics\n",
      "  Downloading ultralytics-8.3.39-py3-none-any.whl.metadata (35 kB)\n",
      "Requirement already satisfied: numpy>=1.23.0 in /opt/conda/lib/python3.10/site-packages (from ultralytics) (1.26.4)\n",
      "Requirement already satisfied: matplotlib>=3.3.0 in /opt/conda/lib/python3.10/site-packages (from ultralytics) (3.7.5)\n",
      "Requirement already satisfied: opencv-python>=4.6.0 in /opt/conda/lib/python3.10/site-packages (from ultralytics) (4.10.0.84)\n",
      "Requirement already satisfied: pillow>=7.1.2 in /opt/conda/lib/python3.10/site-packages (from ultralytics) (10.3.0)\n",
      "Requirement already satisfied: pyyaml>=5.3.1 in /opt/conda/lib/python3.10/site-packages (from ultralytics) (6.0.2)\n",
      "Requirement already satisfied: requests>=2.23.0 in /opt/conda/lib/python3.10/site-packages (from ultralytics) (2.32.3)\n",
      "Requirement already satisfied: scipy>=1.4.1 in /opt/conda/lib/python3.10/site-packages (from ultralytics) (1.14.1)\n",
      "Requirement already satisfied: torch>=1.8.0 in /opt/conda/lib/python3.10/site-packages (from ultralytics) (2.4.0)\n",
      "Requirement already satisfied: torchvision>=0.9.0 in /opt/conda/lib/python3.10/site-packages (from ultralytics) (0.19.0)\n",
      "Requirement already satisfied: tqdm>=4.64.0 in /opt/conda/lib/python3.10/site-packages (from ultralytics) (4.66.4)\n",
      "Requirement already satisfied: psutil in /opt/conda/lib/python3.10/site-packages (from ultralytics) (5.9.3)\n",
      "Requirement already satisfied: py-cpuinfo in /opt/conda/lib/python3.10/site-packages (from ultralytics) (9.0.0)\n",
      "Requirement already satisfied: pandas>=1.1.4 in /opt/conda/lib/python3.10/site-packages (from ultralytics) (2.2.2)\n",
      "Requirement already satisfied: seaborn>=0.11.0 in /opt/conda/lib/python3.10/site-packages (from ultralytics) (0.12.2)\n",
      "Collecting ultralytics-thop>=2.0.0 (from ultralytics)\n",
      "  Downloading ultralytics_thop-2.0.12-py3-none-any.whl.metadata (9.4 kB)\n",
      "Requirement already satisfied: contourpy>=1.0.1 in /opt/conda/lib/python3.10/site-packages (from matplotlib>=3.3.0->ultralytics) (1.2.1)\n",
      "Requirement already satisfied: cycler>=0.10 in /opt/conda/lib/python3.10/site-packages (from matplotlib>=3.3.0->ultralytics) (0.12.1)\n",
      "Requirement already satisfied: fonttools>=4.22.0 in /opt/conda/lib/python3.10/site-packages (from matplotlib>=3.3.0->ultralytics) (4.53.0)\n",
      "Requirement already satisfied: kiwisolver>=1.0.1 in /opt/conda/lib/python3.10/site-packages (from matplotlib>=3.3.0->ultralytics) (1.4.5)\n",
      "Requirement already satisfied: packaging>=20.0 in /opt/conda/lib/python3.10/site-packages (from matplotlib>=3.3.0->ultralytics) (21.3)\n",
      "Requirement already satisfied: pyparsing>=2.3.1 in /opt/conda/lib/python3.10/site-packages (from matplotlib>=3.3.0->ultralytics) (3.1.2)\n",
      "Requirement already satisfied: python-dateutil>=2.7 in /opt/conda/lib/python3.10/site-packages (from matplotlib>=3.3.0->ultralytics) (2.9.0.post0)\n",
      "Requirement already satisfied: pytz>=2020.1 in /opt/conda/lib/python3.10/site-packages (from pandas>=1.1.4->ultralytics) (2024.1)\n",
      "Requirement already satisfied: tzdata>=2022.7 in /opt/conda/lib/python3.10/site-packages (from pandas>=1.1.4->ultralytics) (2024.1)\n",
      "Requirement already satisfied: charset-normalizer<4,>=2 in /opt/conda/lib/python3.10/site-packages (from requests>=2.23.0->ultralytics) (3.3.2)\n",
      "Requirement already satisfied: idna<4,>=2.5 in /opt/conda/lib/python3.10/site-packages (from requests>=2.23.0->ultralytics) (3.7)\n",
      "Requirement already satisfied: urllib3<3,>=1.21.1 in /opt/conda/lib/python3.10/site-packages (from requests>=2.23.0->ultralytics) (1.26.18)\n",
      "Requirement already satisfied: certifi>=2017.4.17 in /opt/conda/lib/python3.10/site-packages (from requests>=2.23.0->ultralytics) (2024.8.30)\n",
      "Requirement already satisfied: filelock in /opt/conda/lib/python3.10/site-packages (from torch>=1.8.0->ultralytics) (3.15.1)\n",
      "Requirement already satisfied: typing-extensions>=4.8.0 in /opt/conda/lib/python3.10/site-packages (from torch>=1.8.0->ultralytics) (4.12.2)\n",
      "Requirement already satisfied: sympy in /opt/conda/lib/python3.10/site-packages (from torch>=1.8.0->ultralytics) (1.13.3)\n",
      "Requirement already satisfied: networkx in /opt/conda/lib/python3.10/site-packages (from torch>=1.8.0->ultralytics) (3.3)\n",
      "Requirement already satisfied: jinja2 in /opt/conda/lib/python3.10/site-packages (from torch>=1.8.0->ultralytics) (3.1.4)\n",
      "Requirement already satisfied: fsspec in /opt/conda/lib/python3.10/site-packages (from torch>=1.8.0->ultralytics) (2024.6.1)\n",
      "Requirement already satisfied: six>=1.5 in /opt/conda/lib/python3.10/site-packages (from python-dateutil>=2.7->matplotlib>=3.3.0->ultralytics) (1.16.0)\n",
      "Requirement already satisfied: MarkupSafe>=2.0 in /opt/conda/lib/python3.10/site-packages (from jinja2->torch>=1.8.0->ultralytics) (2.1.5)\n",
      "Requirement already satisfied: mpmath<1.4,>=1.1.0 in /opt/conda/lib/python3.10/site-packages (from sympy->torch>=1.8.0->ultralytics) (1.3.0)\n",
      "Downloading ultralytics-8.3.39-py3-none-any.whl (896 kB)\n",
      "\u001b[2K   \u001b[90m━━━━━━━━━━━━━━━━━━━━━━━━━━━━━━━━━━━━━━━━\u001b[0m \u001b[32m896.9/896.9 kB\u001b[0m \u001b[31m15.4 MB/s\u001b[0m eta \u001b[36m0:00:00\u001b[0m\n",
      "\u001b[?25hDownloading ultralytics_thop-2.0.12-py3-none-any.whl (26 kB)\n",
      "Installing collected packages: ultralytics-thop, ultralytics\n",
      "Successfully installed ultralytics-8.3.39 ultralytics-thop-2.0.12\n",
      "Note: you may need to restart the kernel to use updated packages.\n",
      "Creating new Ultralytics Settings v0.0.6 file ✅ \n",
      "View Ultralytics Settings with 'yolo settings' or at '/root/.config/Ultralytics/settings.json'\n",
      "Update Settings with 'yolo settings key=value', i.e. 'yolo settings runs_dir=path/to/dir'. For help see https://docs.ultralytics.com/quickstart/#ultralytics-settings.\n"
     ]
    }
   ],
   "source": [
    "%pip install ultralytics\n",
    "from ultralytics import YOLO"
   ]
  },
  {
   "cell_type": "markdown",
   "id": "d97e6fb7-ce93-4f35-9930-2e0cfcb090af",
   "metadata": {},
   "source": [
    "## Настройки для инференса"
   ]
  },
  {
   "cell_type": "code",
   "execution_count": 3,
   "id": "7e6b02f0",
   "metadata": {
    "execution": {
     "iopub.execute_input": "2024-12-01T20:44:32.329618Z",
     "iopub.status.busy": "2024-12-01T20:44:32.329343Z",
     "iopub.status.idle": "2024-12-01T20:44:32.421556Z",
     "shell.execute_reply": "2024-12-01T20:44:32.420605Z"
    },
    "papermill": {
     "duration": 0.09801,
     "end_time": "2024-12-01T20:44:32.423289",
     "exception": false,
     "start_time": "2024-12-01T20:44:32.325279",
     "status": "completed"
    },
    "tags": []
   },
   "outputs": [
    {
     "name": "stdout",
     "output_type": "stream",
     "text": [
      "Using cuda device\n"
     ]
    }
   ],
   "source": [
    "# Выбор процессора\n",
    "DEVICE = (\n",
    "    \"cuda\"\n",
    "    if torch.cuda.is_available()\n",
    "    # else \"mps\"\n",
    "    # if torch.backends.mps.is_available()\n",
    "    else \"cpu\"\n",
    ")\n",
    "print(f\"Using {DEVICE} device\")"
   ]
  },
  {
   "cell_type": "code",
   "execution_count": 4,
   "id": "fd116173",
   "metadata": {
    "execution": {
     "iopub.execute_input": "2024-12-01T20:44:32.431123Z",
     "iopub.status.busy": "2024-12-01T20:44:32.430568Z",
     "iopub.status.idle": "2024-12-01T20:44:33.577482Z",
     "shell.execute_reply": "2024-12-01T20:44:33.576602Z"
    },
    "papermill": {
     "duration": 1.153058,
     "end_time": "2024-12-01T20:44:33.579698",
     "exception": false,
     "start_time": "2024-12-01T20:44:32.426640",
     "status": "completed"
    },
    "tags": []
   },
   "outputs": [
    {
     "name": "stdout",
     "output_type": "stream",
     "text": [
      "Sun Dec  1 20:44:33 2024       \n",
      "+-----------------------------------------------------------------------------------------+\n",
      "| NVIDIA-SMI 560.35.03              Driver Version: 560.35.03      CUDA Version: 12.6     |\n",
      "|-----------------------------------------+------------------------+----------------------+\n",
      "| GPU  Name                 Persistence-M | Bus-Id          Disp.A | Volatile Uncorr. ECC |\n",
      "| Fan  Temp   Perf          Pwr:Usage/Cap |           Memory-Usage | GPU-Util  Compute M. |\n",
      "|                                         |                        |               MIG M. |\n",
      "|=========================================+========================+======================|\n",
      "|   0  Tesla T4                       Off |   00000000:00:04.0 Off |                    0 |\n",
      "| N/A   40C    P8             10W /   70W |       3MiB /  15360MiB |      0%      Default |\n",
      "|                                         |                        |                  N/A |\n",
      "+-----------------------------------------+------------------------+----------------------+\n",
      "|   1  Tesla T4                       Off |   00000000:00:05.0 Off |                    0 |\n",
      "| N/A   40C    P8              9W /   70W |       3MiB /  15360MiB |      0%      Default |\n",
      "|                                         |                        |                  N/A |\n",
      "+-----------------------------------------+------------------------+----------------------+\n",
      "                                                                                         \n",
      "+-----------------------------------------------------------------------------------------+\n",
      "| Processes:                                                                              |\n",
      "|  GPU   GI   CI        PID   Type   Process name                              GPU Memory |\n",
      "|        ID   ID                                                               Usage      |\n",
      "|=========================================================================================|\n",
      "|  No running processes found                                                             |\n",
      "+-----------------------------------------------------------------------------------------+\n"
     ]
    }
   ],
   "source": [
    "!nvidia-smi "
   ]
  },
  {
   "cell_type": "code",
   "execution_count": 5,
   "id": "efba58a7",
   "metadata": {
    "execution": {
     "iopub.execute_input": "2024-12-01T20:44:33.588108Z",
     "iopub.status.busy": "2024-12-01T20:44:33.587787Z",
     "iopub.status.idle": "2024-12-01T20:44:34.241328Z",
     "shell.execute_reply": "2024-12-01T20:44:34.240544Z"
    },
    "papermill": {
     "duration": 0.660201,
     "end_time": "2024-12-01T20:44:34.243488",
     "exception": false,
     "start_time": "2024-12-01T20:44:33.583287",
     "status": "completed"
    },
    "tags": []
   },
   "outputs": [],
   "source": [
    "# Загрузим обученную нами модель\n",
    "model = YOLO('/kaggle/input/garbage-detection/runs/detect/garbage_detection/weights/best.pt') "
   ]
  },
  {
   "cell_type": "code",
   "execution_count": 6,
   "id": "7df31d89",
   "metadata": {
    "execution": {
     "iopub.execute_input": "2024-12-01T20:44:34.253167Z",
     "iopub.status.busy": "2024-12-01T20:44:34.252561Z",
     "iopub.status.idle": "2024-12-01T20:44:34.257617Z",
     "shell.execute_reply": "2024-12-01T20:44:34.256646Z"
    },
    "papermill": {
     "duration": 0.012132,
     "end_time": "2024-12-01T20:44:34.259313",
     "exception": false,
     "start_time": "2024-12-01T20:44:34.247181",
     "status": "completed"
    },
    "tags": []
   },
   "outputs": [
    {
     "name": "stdout",
     "output_type": "stream",
     "text": [
      "Модель загружена\n"
     ]
    }
   ],
   "source": [
    "print('Модель загружена')"
   ]
  },
  {
   "cell_type": "code",
   "execution_count": 7,
   "id": "de490503",
   "metadata": {
    "execution": {
     "iopub.execute_input": "2024-12-01T20:44:34.266827Z",
     "iopub.status.busy": "2024-12-01T20:44:34.266544Z",
     "iopub.status.idle": "2024-12-01T20:44:36.397528Z",
     "shell.execute_reply": "2024-12-01T20:44:36.396499Z"
    },
    "papermill": {
     "duration": 2.13714,
     "end_time": "2024-12-01T20:44:36.399704",
     "exception": false,
     "start_time": "2024-12-01T20:44:34.262564",
     "status": "completed"
    },
    "tags": []
   },
   "outputs": [],
   "source": [
    "# Зададим переменные с путями к изображениям и меткам трейна\n",
    "# а также путь к файлу для аутпут\n",
    "test_img_path = '/kaggle/input/garbage-detection-data/yolo_dataset/images/test/'\n",
    "output_csv_path = \"/kaggle/working/detection_results.csv\"\n",
    "\n",
    "test_file_names = []\n",
    "# Сохраним названия изображений трейна в переменую\n",
    "for dirname, _, filenames in os.walk(test_img_path):\n",
    "    for filename in filenames:\n",
    "        test_file_names.append(os.path.join(test_img_path,filename))"
   ]
  },
  {
   "cell_type": "code",
   "execution_count": 8,
   "id": "e53356c2",
   "metadata": {
    "execution": {
     "iopub.execute_input": "2024-12-01T20:44:36.407429Z",
     "iopub.status.busy": "2024-12-01T20:44:36.407156Z",
     "iopub.status.idle": "2024-12-01T20:44:36.411786Z",
     "shell.execute_reply": "2024-12-01T20:44:36.410851Z"
    },
    "papermill": {
     "duration": 0.010367,
     "end_time": "2024-12-01T20:44:36.413483",
     "exception": false,
     "start_time": "2024-12-01T20:44:36.403116",
     "status": "completed"
    },
    "tags": []
   },
   "outputs": [
    {
     "name": "stdout",
     "output_type": "stream",
     "text": [
      "Сформирован список файлов\n"
     ]
    }
   ],
   "source": [
    "print('Сформирован список файлов')"
   ]
  },
  {
   "cell_type": "markdown",
   "id": "7852122b-e25d-4a91-8c7c-b46a3ac88c76",
   "metadata": {},
   "source": [
    "## Получение предсказаний"
   ]
  },
  {
   "cell_type": "code",
   "execution_count": 9,
   "id": "677aad36",
   "metadata": {
    "execution": {
     "iopub.execute_input": "2024-12-01T20:44:36.421399Z",
     "iopub.status.busy": "2024-12-01T20:44:36.420733Z",
     "iopub.status.idle": "2024-12-01T20:48:08.771773Z",
     "shell.execute_reply": "2024-12-01T20:48:08.771002Z"
    },
    "papermill": {
     "duration": 212.357096,
     "end_time": "2024-12-01T20:48:08.773896",
     "exception": false,
     "start_time": "2024-12-01T20:44:36.416800",
     "status": "completed"
    },
    "tags": []
   },
   "outputs": [],
   "source": [
    "step = 5\n",
    "results_list = []\n",
    "for i in range(0, len(test_file_names), 5):\n",
    "    # Получаем текущий батч файлов\n",
    "    batch = test_file_names[i:i+step]\n",
    "    # Осуществляем инференс на текущем батче\n",
    "    result = model(batch, verbose=False)\n",
    "\n",
    "    # Сохраняем результаты\n",
    "    for r in result:\n",
    "        result_data = {\n",
    "            'boxes': r.boxes,          # Координаты детекций\n",
    "            #'keypoints': r.keypoints,  # Ключевые точки (если есть)\n",
    "            #'masks': r.masks,          # Маски (если есть)\n",
    "            'names': r.names,          # Названия классов\n",
    "            #'obb': r.obb,              # Oriented bounding boxes (если поддерживается)\n",
    "            #'orig_img': r.orig_img,    # Исходное изображение\n",
    "            #'orig_shape': r.orig_shape,  # Исходная форма изображения\n",
    "            'path': r.path,            # Путь к изображению\n",
    "            'probs': r.probs#,          # Вероятности классов\n",
    "            #'save_dir': r.save_dir,    # Директория сохранения\n",
    "            #'speed': r.speed           # Время выполнения (preprocess, inference, postprocess)\n",
    "        }\n",
    "        results_list.append(result_data)\n"
   ]
  },
  {
   "cell_type": "code",
   "execution_count": 10,
   "id": "855f3203",
   "metadata": {
    "execution": {
     "iopub.execute_input": "2024-12-01T20:48:08.782875Z",
     "iopub.status.busy": "2024-12-01T20:48:08.782177Z",
     "iopub.status.idle": "2024-12-01T20:48:10.136784Z",
     "shell.execute_reply": "2024-12-01T20:48:10.135913Z"
    },
    "papermill": {
     "duration": 1.360885,
     "end_time": "2024-12-01T20:48:10.138685",
     "exception": false,
     "start_time": "2024-12-01T20:48:08.777800",
     "status": "completed"
    },
    "tags": []
   },
   "outputs": [],
   "source": [
    "# Создаем пустой список для хранения данных\n",
    "csv_data = []\n",
    "\n",
    "# Обрабатываем результаты из results_list\n",
    "for res in results_list:\n",
    "    file_name = res['path'].split('/')[-1]  # Извлекаем имя файла из полного пути\n",
    "    bboxes = []\n",
    "\n",
    "    if res['boxes'] is not None:  # Если объекты найдены\n",
    "        for box in res['boxes'].data:  # Перебираем все боксы\n",
    "            category_id = int(box[-1])+1  # Класс объекта\n",
    "            confidence = float(box[-2])  # Уверенность модели\n",
    "            x1, y1, x2, y2 = map(float, box[:4])  # Координаты бокса (x1, y1, x2, y2)\n",
    "            \n",
    "            # Конвертация в формат [x_left, y_top, width, height]\n",
    "            x_left = x1\n",
    "            y_top = y1\n",
    "            width = x2 - x1\n",
    "            height = y2 - y1\n",
    "\n",
    "            bboxes.append([category_id, confidence, x_left, y_top, width, height])\n",
    "\n",
    "    # Добавляем данные в список\n",
    "    csv_data.append({'file_name': file_name, 'bbox': bboxes})\n",
    "\n",
    "# Преобразуем данные в DataFrame\n",
    "df = pd.DataFrame(csv_data)\n",
    "\n",
    "# Сохраняем DataFrame в CSV\n",
    "df.to_csv(output_csv_path, index=False)"
   ]
  }
 ],
 "metadata": {
  "kaggle": {
   "accelerator": "nvidiaTeslaT4",
   "dataSources": [
    {
     "databundleVersionId": 9967287,
     "sourceId": 86681,
     "sourceType": "competition"
    },
    {
     "sourceId": 209956486,
     "sourceType": "kernelVersion"
    },
    {
     "sourceId": 210599775,
     "sourceType": "kernelVersion"
    }
   ],
   "dockerImageVersionId": 30786,
   "isGpuEnabled": true,
   "isInternetEnabled": true,
   "language": "python",
   "sourceType": "notebook"
  },
  "kernelspec": {
   "display_name": "Python 3 (ipykernel)",
   "language": "python",
   "name": "python3"
  },
  "language_info": {
   "codemirror_mode": {
    "name": "ipython",
    "version": 3
   },
   "file_extension": ".py",
   "mimetype": "text/x-python",
   "name": "python",
   "nbconvert_exporter": "python",
   "pygments_lexer": "ipython3",
   "version": "3.9.5"
  },
  "papermill": {
   "default_parameters": {},
   "duration": 240.877447,
   "end_time": "2024-12-01T20:48:12.592569",
   "environment_variables": {},
   "exception": null,
   "input_path": "__notebook__.ipynb",
   "output_path": "__notebook__.ipynb",
   "parameters": {},
   "start_time": "2024-12-01T20:44:11.715122",
   "version": "2.6.0"
  }
 },
 "nbformat": 4,
 "nbformat_minor": 5
}
